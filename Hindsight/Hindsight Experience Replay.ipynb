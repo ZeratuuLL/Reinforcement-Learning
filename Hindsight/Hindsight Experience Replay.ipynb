{
 "cells": [
  {
   "cell_type": "markdown",
   "metadata": {},
   "source": [
    "## Set up\n",
    "\n",
    "First we import the necessary packages. We also decide which device (cpu/gpu) to use for training."
   ]
  },
  {
   "cell_type": "code",
   "execution_count": 1,
   "metadata": {},
   "outputs": [],
   "source": [
    "import numpy as np\n",
    "\n",
    "import torch\n",
    "import torch.nn as nn\n",
    "import torch.nn.functional as F\n",
    "import torch.optim as optim\n",
    "\n",
    "import random\n",
    "from collections import namedtuple, deque\n",
    "\n",
    "import matplotlib.pyplot as plt\n",
    "\n",
    "#You can choose other gpu cores by changing the number 0 to other valid numbers\n",
    "device = torch.device(\"cuda:0\" if torch.cuda.is_available() else \"cpu\")"
   ]
  },
  {
   "cell_type": "markdown",
   "metadata": {},
   "source": [
    "## Test Environment\n",
    "\n",
    "The following block defines the training environment. You can specify the lenght of the state $n$ and the number of agents $m$ you want. \n",
    "\n",
    "When initialized, each agent gets a unique goal with each position equally likely to be 0 or 1. The starting position for each agent is initialized in the same way. So every position is toally random.\n",
    "\n",
    "At each timestep, each agent decides it's action. Action $a$ must be in $\\{0, 2, ..., n-1\\}$ and the $a^{th}$ position in state will change.\n",
    "\n",
    "Whenever an agent's state equals to it's goal, it finishes an episode and both state and goal will be initialized again. Otherwise, if this episode has continued $50n$ timesteps, it will restart automatically with a different random state and goal."
   ]
  },
  {
   "cell_type": "code",
   "execution_count": 2,
   "metadata": {},
   "outputs": [],
   "source": [
    "class environment_info:\n",
    "    def __init__(self, num_agents, length):\n",
    "        self.vector_observations = np.zeros((num_agents, length))\n",
    "        self.rewards = np.zeros((num_agents, 1))\n",
    "        self.local_done = [False] * num_agents\n",
    "        \n",
    "    def reset(self):\n",
    "        num_agents, length = self.vector_observations.shape\n",
    "        self.vector_observations = np.array(np.random.random_sample((num_agents, length))<0.5, dtype=float)\n",
    "        self.rewards = np.zeros((num_agents, 1))\n",
    "        self.local_done = [False] * num_agents\n",
    "\n",
    "class test_environment:\n",
    "    def __init__(self, num_agents, length):\n",
    "        '''\n",
    "        num_agents and length should be integers.\n",
    "        goal is a numpy array of shape (num_agents, length)\n",
    "        '''\n",
    "        self.num_agents = num_agents\n",
    "        self.length = length\n",
    "        self.goal = np.array(np.array(np.random.random_sample((num_agents, length))<0.5, dtype=float))#A random goal\n",
    "        self.env_info = environment_info(num_agents, length)\n",
    "        self.steps = np.zeros((num_agents, 1))#record how many steps has each agent taken\n",
    "    \n",
    "    def set_goal(self, goal):\n",
    "        '''if you want to change the goal'''\n",
    "        if goal.shape == self.goal.shape:\n",
    "            self.goal = goal\n",
    "        else:\n",
    "            print('Goal size incorrect, rejected')\n",
    "            \n",
    "    def reward(self):\n",
    "        '''This function calculates the reward for current state (or the previous action)'''\n",
    "        if self.goal is None:\n",
    "            return np.zeros((self.num_agents, 1))\n",
    "        current = self.env_info.vector_observations\n",
    "        goal = self.goal\n",
    "        difference = np.sum((current-goal)**2, axis=1, keepdims= True)\n",
    "        rewards = np.where(difference==0, 1, -0.1)\n",
    "        return rewards\n",
    "      \n",
    "    def step(self, actions):\n",
    "        '''\n",
    "        actions should be a 1-d list or numpy array with length equal to number of agents\n",
    "        \n",
    "        DO NOT use shape (num_agents, 1)!!!\n",
    "        \n",
    "        the values of corresponding positions will change from 1 to 0 or 0 to 1\n",
    "        each element in actions should be in range(length)\n",
    "        '''\n",
    "        #Find the next state\n",
    "        actions = actions.reshape(self.num_agents)#just in case\n",
    "        \n",
    "        state = self.env_info.vector_observations\n",
    "        state[range(self.num_agents), actions] -= 1\n",
    "        state = np.abs(state)\n",
    "        self.steps += np.ones((self.num_agents, 1))\n",
    "        self.env_info.vector_observations = state\n",
    "        \n",
    "        #Get reward signal\n",
    "        self.env_info.rewards = self.reward()\n",
    "        \n",
    "        #See if agents are 'done'\n",
    "        self.env_info.local_done = (self.env_info.rewards == 1) | (self.steps == 50*self.length)\n",
    "        dones = self.env_info.local_done.copy()\n",
    "        dones = dones.reshape(-1)\n",
    "        done_count = sum(dones)\n",
    "        \n",
    "        #reset the agents that are done\n",
    "        self.steps[dones] = 0\n",
    "        self.env_info.vector_observations[dones, :] = np.array(np.random.random_sample((done_count, self.length))<0.5, dtype=float)\n",
    "        self.goal[dones, :] = np.array(np.random.random_sample((done_count, self.length))<0.5, dtype=float)\n",
    "        \n",
    "        return self.env_info\n",
    "    \n",
    "    def reset(self):\n",
    "        self.env_info.reset()\n",
    "        self.steps = np.zeros((self.num_agents, 1))\n",
    "        return self.env_info\n",
    "        \n",
    "    def get_state(self):\n",
    "        '''lazy way to get state info'''\n",
    "        return self.env_info.vector_observations"
   ]
  },
  {
   "cell_type": "markdown",
   "metadata": {},
   "source": [
    "## Network\n",
    "\n",
    "The following defines the Q-network used in training. Now it's constraint to be a sequential model with 3 hidden layers. You can choose the size of each hidden layer as well as the use of batchnormalization. The state_size and action_size must be set according to the environment.\n",
    "\n",
    "A dueling structure is also supported in Duel_QNetwork class."
   ]
  },
  {
   "cell_type": "code",
   "execution_count": 3,
   "metadata": {},
   "outputs": [],
   "source": [
    "class QNetwork(nn.Module):\n",
    "    \"\"\"Actor (Policy) Model.\"\"\"\n",
    "\n",
    "    def __init__(self, state_size, action_size, seed, fc_units=None, BatchNorm=False):\n",
    "        \"\"\"Initialize parameters and build model.\n",
    "        Params\n",
    "        ======\n",
    "            state_size (int): Dimension of each state\n",
    "            action_size (int): Dimension of each action\n",
    "            seed (int): Random seed\n",
    "        \"\"\"\n",
    "        super(QNetwork, self).__init__()\n",
    "        self.seed = torch.manual_seed(seed)\n",
    "        if fc_units is None:\n",
    "            fc_units = [256, 128, 64]\n",
    "        self.fc1=nn.Linear(2*state_size,fc_units[0])\n",
    "        self.fc2=nn.Linear(fc_units[0],fc_units[1])\n",
    "        self.fc3=nn.Linear(fc_units[1],fc_units[2])\n",
    "        self.fc4=nn.Linear(fc_units[2],action_size)\n",
    "        self.bn1 = nn.BatchNorm1d(fc_units[0])\n",
    "        self.bn2 = nn.BatchNorm1d(fc_units[1])\n",
    "        self.bn3 = nn.BatchNorm1d(fc_units[2])\n",
    "        self.BatchNorm = BatchNorm\n",
    "\n",
    "    def forward(self, state, goal):\n",
    "        \"\"\"Build a network that maps state -> action values.\"\"\"\n",
    "        x = torch.cat([state, goal], dim=1)\n",
    "        if self.BatchNorm:\n",
    "            x=self.bn1(F.relu(self.fc1(x)))\n",
    "            x=self.bn2(F.relu(self.fc2(x)))\n",
    "            x=self.bn3(F.relu(self.fc3(x)))\n",
    "        else:\n",
    "            x = F.relu(self.fc1(x))\n",
    "            x = F.relu(self.fc2(x))\n",
    "            x = F.relu(self.fc3(x))\n",
    "        x=self.fc4(x)\n",
    "        return(x)\n",
    "        \n",
    "class Duel_QNetwork(nn.Module):\n",
    "    \"\"\"Actor (Policy) Model.\"\"\"\n",
    "\n",
    "    def __init__(self, state_size, action_size, seed,fc_units=None, BatchNorm=False):\n",
    "        \"\"\"Initialize parameters and build model.\n",
    "        Params\n",
    "        ======\n",
    "            state_size (int): Dimension of each state\n",
    "            action_size (int): Dimension of each action\n",
    "            seed (int): Random seed\n",
    "        \"\"\"\n",
    "        super(Duel_QNetwork, self).__init__()\n",
    "        self.seed = torch.manual_seed(seed)\n",
    "        if fc_units is None:\n",
    "            fc_units = [256, 128, 64]\n",
    "        self.fc1=nn.Linear(2*state_size,fc_units[0])\n",
    "        self.fc2=nn.Linear(fc_units[0],fc_units[1])\n",
    "        self.fc3=nn.Linear(fc_units[1],fc_units[2])\n",
    "        self.fc4=nn.Linear(fc_units[2],action_size)\n",
    "        self.fc5=nn.Linear(fc_units[2],1)\n",
    "        self.bn1 = nn.BatchNorm1d(fc_units[0])\n",
    "        self.bn2 = nn.BatchNorm1d(fc_units[1])\n",
    "        self.bn3 = nn.BatchNorm1d(fc_units[2])\n",
    "        self.BatchNorm = BatchNorm\n",
    "        \n",
    "    def forward(self, state, goal):\n",
    "        \"\"\"Build a network that maps state -> action values.\"\"\"\n",
    "        x = torch.cat([state, goal], dim=1)\n",
    "        if self.BatchNorm:\n",
    "            x=self.bn1(F.relu(self.fc1(x)))\n",
    "            x=self.bn2(F.relu(self.fc2(x)))\n",
    "            x=self.bn3(F.relu(self.fc3(x)))\n",
    "        else:\n",
    "            x = F.relu(self.fc1(x))\n",
    "            x = F.relu(self.fc2(x))\n",
    "            x = F.relu(self.fc3(x))\n",
    "        x1=self.fc4(x)\n",
    "        x2=self.fc5(x)\n",
    "        return(x1+x2)"
   ]
  },
  {
   "cell_type": "markdown",
   "metadata": {},
   "source": [
    "## Replay Buffer\n",
    "\n",
    "This block defines a replay buffer. It also supports sampling experience with a priority/prior probability for prioritized Q Learning."
   ]
  },
  {
   "cell_type": "code",
   "execution_count": 4,
   "metadata": {},
   "outputs": [],
   "source": [
    "class ReplayBuffer:\n",
    "    \"\"\"Fixed-size buffer to store experience tuples.\"\"\"\n",
    "\n",
    "    def __init__(self, action_size, buffer_size, batch_size, seed):\n",
    "        \"\"\"Initialize a ReplayBuffer object.\n",
    "\n",
    "        Params\n",
    "        ======\n",
    "            action_size (int): dimension of each action\n",
    "            buffer_size (int): maximum size of buffer\n",
    "            batch_size (int): size of each training batch\n",
    "            seed (int): random seed\n",
    "        \"\"\"\n",
    "        self.action_size = action_size\n",
    "        self.memory = deque(maxlen=buffer_size)  \n",
    "        self.batch_size = batch_size\n",
    "        self.experience = namedtuple(\"Experience\", field_names=[\"state\", \"goal\", \"action\", \"reward\", \"next_state\", \"next_goal\", \"done\"])\n",
    "        self.seed = random.seed(seed)\n",
    "    \n",
    "    def add(self, state, goal, action, reward, next_state, next_goal, done):\n",
    "        \"\"\"Add a new experience to memory.\"\"\"\n",
    "        e = self.experience(state, goal, action, reward, next_state, next_goal, done)\n",
    "        self.memory.append(e)\n",
    "    \n",
    "    def sample(self,priority,alpha):\n",
    "        \"\"\"Randomly sample a batch of experiences from memory.\n",
    "        \n",
    "        Params\n",
    "        ======\n",
    "            priority: a vector records the priority for each experience\n",
    "            alpha: to determine how much the priority should influence the probability. \n",
    "                p(sample i) ~ priority(sample i)**alpha\n",
    "        \"\"\"\n",
    "        #Sample experiences with priority. First sample index, then pick corresponding experience\n",
    "        prob=np.array(priority)**alpha\n",
    "        prob=prob/np.sum(prob)#This makes it a probability\n",
    "        index=np.random.choice(a=len(prob),size=self.batch_size,replace=False,p=prob)\n",
    "        experiences = list(map(self.memory.__getitem__,index))\n",
    "        \n",
    "        #Extract information from memory unit and return\n",
    "        states = torch.from_numpy(np.vstack([e.state for e in experiences if e is not None])).float().to(device)\n",
    "        goals = torch.from_numpy(np.vstack([e.goal for e in experiences if e is not None])).float().to(device)\n",
    "        actions = torch.from_numpy(np.vstack([e.action for e in experiences if e is not None])).long().to(device)\n",
    "        rewards = torch.from_numpy(np.vstack([e.reward for e in experiences if e is not None])).float().to(device)\n",
    "        next_states = torch.from_numpy(np.vstack([e.next_state for e in experiences if e is not None])).float().to(device)\n",
    "        next_goals = torch.from_numpy(np.vstack([e.next_goal for e in experiences if e is not None])).float().to(device)\n",
    "        dones = torch.from_numpy(np.vstack([e.done for e in experiences if e is not None]).astype(np.uint8)).float().to(device)\n",
    "        return (states, goals, actions, rewards, next_states, next_goals, dones), index\n",
    "\n",
    "    def __len__(self):\n",
    "        \"\"\"Return the current size of internal memory.\"\"\"\n",
    "        return len(self.memory)"
   ]
  },
  {
   "cell_type": "markdown",
   "metadata": {},
   "source": [
    "## Hindsight Experience Replay"
   ]
  },
  {
   "cell_type": "code",
   "execution_count": 5,
   "metadata": {},
   "outputs": [],
   "source": [
    "class Hindsight:\n",
    "    ''' \n",
    "    This is a class for hindsight experience replay \n",
    "    By default one instance of this class only serves one agent. If multiple agent exist, create multiple instances\n",
    "    '''\n",
    "    def __init__(self, N, alpha):\n",
    "        '''\n",
    "        N(int) is the smallest number of timesteps required to generate new experience.\n",
    "        N is at least 10.\n",
    "        If no enough experiences collected, nothing will be created\n",
    "        alpha(float) is propotion to be set to positive, it must be between (0.1, 0.3)\n",
    "        '''\n",
    "        self.reset()\n",
    "        self.N = max(N, 10)\n",
    "        self.alpha = max(0.1, min(0.2, alpha))\n",
    "        \n",
    "    def add(self, state, goal, action, next_state, next_goal):\n",
    "        self.states.append(state)\n",
    "        self.goals.append(goal)\n",
    "        self.actions.append(action)\n",
    "        self.next_states.append(next_state)\n",
    "        self.next_goals.append(next_goal)\n",
    "        \n",
    "    def reward(self, states, goals):\n",
    "        ''' \n",
    "        This reward function is only for this task. \n",
    "        Here done is the original information from the same timestep\n",
    "        '''\n",
    "        states = np.array(states)\n",
    "        goals = np.array(goals)\n",
    "        rewards = np.where(np.sum((states-goals)**2, axis=1, keepdims=True)==0, 1, -0.1)\n",
    "        dones = rewards==1\n",
    "        return rewards, dones\n",
    "    \n",
    "    def to_memory(self, memory):\n",
    "        '''\n",
    "        This part process data and save them into a format that can be directly transfered into agent memory\n",
    "        The basic idea is to select some special timestep and set them as new goals\n",
    "        So that in the generated data the positive/negative data will have some stable ratio\n",
    "        memory is the target memory. It must has .add() method\n",
    "        \n",
    "        IMPORTANT:\n",
    "        This procedure requires the history comes from a single episode without any reset of environment\n",
    "        '''\n",
    "        total_length = len(self.states)\n",
    "        if total_length<self.N:\n",
    "            return None\n",
    "        \n",
    "        M = int(self.alpha*total_length)\n",
    "        #idx contains the timesteps that goals will be changed to next_state, the first one cannot be chosen\n",
    "        idx = random.sample(range(1, total_length-1), M-1)#In next step, the last one is forced to be chosen\n",
    "        idx = [0] + idx + [total_length-1]\n",
    "        idx = np.sort(idx)\n",
    "        \n",
    "        #After having the 'success' index, we change goals accordingly \n",
    "        self.goals[0] = self.next_states[idx[1]].copy()\n",
    "        self.next_goals[0] = self.next_states[idx[1]].copy()\n",
    "        for i in range(1,len(idx)):\n",
    "            for j in range(idx[i-1]+1, idx[i]):\n",
    "                self.goals[j] = self.next_states[idx[i]].copy()\n",
    "                self.next_goals[j] = self.next_states[idx[i]].copy()\n",
    "            self.goals[idx[i]] = self.next_states[idx[i]].copy()\n",
    "        \n",
    "        rewards, dones = self.reward(self.next_states, self.goals)\n",
    "        \n",
    "        for state, goal, action, reward, next_state, next_goal, done in zip(self.states, self.goals, self.actions, rewards, self.next_states, self.next_goals, dones):\n",
    "            memory.add(state, goal, action, reward, next_state, next_goal, done)\n",
    "        \n",
    "    def reset(self):\n",
    "        self.states = []\n",
    "        self.goals = []\n",
    "        self.actions = []\n",
    "        self.next_states = []\n",
    "        self.next_goals = []"
   ]
  },
  {
   "cell_type": "markdown",
   "metadata": {},
   "source": [
    "## DQN Agent\n",
    "\n",
    "The next block defines the agent class. Some hyperparameters are defined at the very beginning and some others are passes into the agent as parameters.\n",
    "\n",
    "Here is the list of parameters:\n",
    "\n",
    "  * size of replay buffer\n",
    "  * batch size for learning\n",
    "  * $\\gamma$ the weight decay of future rewards\n",
    "  * $\\tau$ the soft update parameter\n",
    "  * learning rate\n",
    "  * update frequency\n",
    "  * default priority for experience\n",
    "  * $\\alpha$ the exponential parameter for priority. Check [this paper](https://arxiv.org/abs/1511.05952) for more details\n",
    "  * environment in which the agent is trained\n",
    "  * whether to use prioritized Q Learning\n",
    "  * whether to use duel structure\n",
    "  * hidden units for Q Network\n",
    "  * whether to use BatchNorm"
   ]
  },
  {
   "cell_type": "code",
   "execution_count": 6,
   "metadata": {},
   "outputs": [],
   "source": [
    "BUFFER_SIZE = int(1e5)  # replay buffer size\n",
    "BATCH_SIZE = 128        # minibatch size\n",
    "GAMMA = 0.99            # discount factor\n",
    "TAU = 1e-3              # for soft update of target parameters\n",
    "LR = 1e-4               # learning rate \n",
    "UPDATE_EVERY = 4        # how often to update the network\n",
    "DEFAULT_PRIORITY=1e-2   # initialization value for priority\n",
    "\n",
    "class DQN_Agent():\n",
    "    \"\"\"Interacts with and learns from the environment.\"\"\"\n",
    "\n",
    "    def __init__(self, env, state_size, action_size, seed, prioritized=False, Duel=False, alpha=0, learning_rate=LR, gamma=GAMMA, tau=TAU, fc_units=None, BatchNorm=False):\n",
    "        \"\"\"Initialize an Agent object.\n",
    "        \n",
    "        Params\n",
    "        ======\n",
    "            state_size (int): dimension of each state\n",
    "            action_size (int): dimension of each action\n",
    "            seed (int): random seed\n",
    "            lr (float): learning rate for local network\n",
    "            tau (float): learning rate for target network\n",
    "            gamma (float): decay rate for future rewards\n",
    "            prioritized (bollean): decide whether to use prioritized Q-Learning\n",
    "        \"\"\"\n",
    "        self.state_size = state_size\n",
    "        self.action_size = action_size\n",
    "        self.seed = random.seed(seed)\n",
    "        self.lr=learning_rate\n",
    "        self.tau=tau\n",
    "        self.gamma=gamma\n",
    "        self.prioritized=prioritized\n",
    "        self.env = env\n",
    "        \n",
    "        # Q-Network\n",
    "        if Duel:\n",
    "            self.qnetwork_local = Duel_QNetwork(state_size, action_size, seed, fc_units=fc_units, BatchNorm=BatchNorm).to(device)\n",
    "            self.qnetwork_target = Duel_QNetwork(state_size, action_size, seed, fc_units=fc_units, BatchNorm=BatchNorm).to(device)\n",
    "        else:\n",
    "            self.qnetwork_local = QNetwork(state_size, action_size, seed, fc_units=fc_units, BatchNorm=BatchNorm).to(device)\n",
    "            self.qnetwork_target = QNetwork(state_size, action_size, seed, fc_units=fc_units, BatchNorm=BatchNorm).to(device)\n",
    "        self.optimizer = optim.Adam(self.qnetwork_local.parameters(), lr=self.lr)\n",
    "\n",
    "        # Replay memory\n",
    "        self.memory = ReplayBuffer(action_size, BUFFER_SIZE, BATCH_SIZE, seed)\n",
    "        self.priority=deque(maxlen=BUFFER_SIZE)\n",
    "        if self.prioritized:\n",
    "            self.alpha=alpha\n",
    "        else:\n",
    "            self.alpha=0# The default value is 0, which is the not prioritized case\n",
    "            \n",
    "        # Initialize time step (for updating every UPDATE_EVERY steps)\n",
    "        self.t_step = 0\n",
    "\n",
    "    def act(self, state, goal, eps=0.):\n",
    "        state = torch.tensor(state, dtype=torch.float32).to(device)\n",
    "        goal = torch.tensor(goal, dtype=torch.float32).to(device)\n",
    "        self.qnetwork_local.eval()\n",
    "        with torch.no_grad():\n",
    "            action_values = self.qnetwork_local(state, goal)\n",
    "        self.qnetwork_local.train()\n",
    "\n",
    "        if random.random() > eps:\n",
    "            actions = np.argmax(action_values.detach().cpu().numpy(), axis=1)\n",
    "        else:\n",
    "            actions = np.random.choice(a=range(self.action_size), size=self.env.num_agents)\n",
    "        return actions\n",
    "\n",
    "    def learn(self, experiences, index, gamma):\n",
    "        \n",
    "        states, goals, actions, rewards, next_states, next_goals, dones= experiences\n",
    "\n",
    "        self.optimizer.zero_grad()\n",
    "        loss=0\n",
    "        ## TODO: find the correct way to calculate the weights to make the update unbiased.\n",
    "        ## Should: each experience times 1/(NP_i) to correct the bias introduced by P_i\n",
    "        ## In the paper: 1/(NP_i)^beta. And normalize the weights so that the largest one is 1 (Not used here)\n",
    "        \n",
    "        # ------------------- calculate the weights ------------------- #\n",
    "        ## If it's prioritized DQN, calculate the weights, otherwise, use 1\n",
    "        if self.prioritized:\n",
    "            w=np.array(self.priority)**self.alpha\n",
    "            w=w/np.sum(w)\n",
    "            w=w[index]\n",
    "            w=1/(len(agent.memory)*w)\n",
    "            w=torch.from_numpy(w)\n",
    "        else:\n",
    "            w=torch.ones(BATCH_SIZE)\n",
    "        \n",
    "        # ------------------- calculate the update  ------------------- #\n",
    "        self.qnetwork_target.train()\n",
    "        expected_rewards = self.qnetwork_local(states, goals)\n",
    "        expected_rewards = expected_rewards[range(expected_rewards.shape[0]), actions.cpu().numpy().reshape(-1)].view(-1,1)\n",
    "        expected_next_rewards = self.qnetwork_target(next_states, next_goals)\n",
    "        expected_next_rewards, _ = torch.max(expected_next_rewards,1,keepdim=True)\n",
    "        real_rewards = rewards + self.gamma*(1-dones)*expected_next_rewards\n",
    "        w=w.float().view(-1,1)\n",
    "        loss=torch.sum(w*(expected_rewards-real_rewards)**2)/BATCH_SIZE\n",
    "        loss.backward()\n",
    "        self.optimizer.step()\n",
    "        self.qnetwork_target.eval()\n",
    "        \n",
    "        # ------------------- update target network ------------------- #\n",
    "        self.soft_update(self.qnetwork_local, self.qnetwork_target, self.tau)\n",
    "        \n",
    "        # -------------------    update priority    ------------------- #\n",
    "        ## Only update when the method is prioritized DQN\n",
    "        if self.prioritized:\n",
    "            priority=np.array(self.priority)\n",
    "            values=abs((expected_rewards-real_rewards).detach().numpy())\n",
    "            priority[index]=np.where(values>DEFAULT_PRIORITY,values,DEFAULT_PRIORITY)\n",
    "            self.priority=deque(priority,maxlen=BUFFER_SIZE)\n",
    "\n",
    "    def soft_update(self, local_model, target_model, tau):\n",
    "        \"\"\"Soft update model parameters.\n",
    "        θ_target = τ*θ_local + (1 - τ)*θ_target\n",
    "\n",
    "        Params\n",
    "        ======\n",
    "            local_model (PyTorch model): weights will be copied from\n",
    "            target_model (PyTorch model): weights will be copied to\n",
    "            tau (float): interpolation parameter \n",
    "        \"\"\"\n",
    "        for target_param, local_param in zip(target_model.parameters(), local_model.parameters()):\n",
    "            target_param.data.copy_(tau*local_param.data + (1.0-tau)*target_param.data)"
   ]
  },
  {
   "cell_type": "markdown",
   "metadata": {},
   "source": [
    "## Training\n",
    "\n",
    "The next block defines the procedure to train an agent. You can decide the following parameters:\n",
    "\n",
    "    * number of episode\n",
    "    * the length of each episode\n",
    "    * $\\epsilon$, the probability of choosing actions randomly, at the very beginning\n",
    "    * $\\epsilon$'s decay per episode\n",
    "    * $\\epsilon$'s minimum value\n",
    "    * whether to use hindsight experience replay"
   ]
  },
  {
   "cell_type": "code",
   "execution_count": 7,
   "metadata": {},
   "outputs": [],
   "source": [
    "def dqn(n_episode=1000, max_t=1000, eps_start=1, eps_end=0.01, eps_decay=0.99, HER=True):\n",
    "    \n",
    "    scores_window = deque(maxlen=100)\n",
    "    eps = eps_start\n",
    "    means = []\n",
    "    for i_episode in range(1, n_episode+1):\n",
    "        episodic_scores = []\n",
    "        scores = np.zeros((env.num_agents, 1))\n",
    "        env_info = env.reset()\n",
    "        if HER:\n",
    "            hindsights = [Hindsight(N=20, alpha=0.2) for _ in range(env.num_agents)]\n",
    "        states = env_info.vector_observations.copy()\n",
    "        goals = env.goal.copy()\n",
    "        for t in range(max_t):\n",
    "            actions = agent.act(states, goals, eps)\n",
    "            env_info = env.step(actions)\n",
    "            next_states = env_info.vector_observations.copy()\n",
    "            next_goals = env.goal.copy()\n",
    "            rewards = env_info.rewards.copy()\n",
    "            dones = env_info.local_done.copy()\n",
    "            for j in range(env.num_agents):\n",
    "                agent.memory.add(states[j], goals[j], actions[j], rewards[j], next_states[j], next_goals[j], dones[j])\n",
    "                agent.priority.append(DEFAULT_PRIORITY)\n",
    "                if HER:\n",
    "                    hindsights[j].add(states[j], goals[j], actions[j], next_states[j], next_goals[j])\n",
    "                        \n",
    "            agent.t_step = (agent.t_step + 1) % UPDATE_EVERY\n",
    "            if agent.t_step == 0:\n",
    "                # If enough samples are available in memory, get random subset and learn\n",
    "                if len(agent.memory) > BATCH_SIZE:\n",
    "                    experience, index = agent.memory.sample(agent.priority, agent.alpha)\n",
    "                    agent.learn(experience, index, GAMMA)\n",
    "            states = next_states.copy()\n",
    "            goals = next_goals.copy()\n",
    "            scores += rewards.copy()\n",
    "                \n",
    "            for j in range(env.num_agents):\n",
    "                if dones[j]:\n",
    "                    episodic_scores.append(scores[j].copy())\n",
    "                    scores[j] = 0\n",
    "                    if HER:\n",
    "                        count = len(hindsights[j].states)\n",
    "                        hindsights[j].to_memory(agent.memory)\n",
    "                        hindsights[j].reset()\n",
    "                        if count>=hindsights[j].N:\n",
    "                            for _ in  range(count):\n",
    "                                agent.priority.append(DEFAULT_PRIORITY)\n",
    "        if HER:                        \n",
    "            for j in range(env.num_agents):\n",
    "                count = len(hindsights[j].states)\n",
    "                hindsights[j].to_memory(agent.memory)\n",
    "                hindsights[j].reset()\n",
    "                if count>=hindsights[j].N:\n",
    "                    for _ in  range(count):\n",
    "                        agent.priority.append(DEFAULT_PRIORITY)\n",
    "                    \n",
    "        means.append(np.mean(episodic_scores))\n",
    "        scores_window.append(np.mean(episodic_scores))\n",
    "        eps = max(eps_decay*eps, eps_end)\n",
    "        print('\\rEpisode {}, Score {:.4f}\\tAverage Score: {:.4f}'.format(i_episode, means[-1], np.mean(scores_window),), end=\"\")        \n",
    "        if i_episode % 50 == 0:\n",
    "            print(' ')\n",
    "            \n",
    "    return means"
   ]
  },
  {
   "cell_type": "markdown",
   "metadata": {},
   "source": [
    "## Experiments\n",
    "\n",
    "We test the performance of different agents (have HER or not, use BatchNorm or not, in total 4) with various state length. We start with $n=5$"
   ]
  },
  {
   "cell_type": "code",
   "execution_count": 8,
   "metadata": {},
   "outputs": [
    {
     "data": {
      "text/plain": [
       "array([[1., 1., 1., 0., 0.],\n",
       "       [1., 1., 1., 0., 0.],\n",
       "       [0., 1., 1., 1., 0.],\n",
       "       [1., 0., 0., 0., 0.],\n",
       "       [0., 0., 1., 1., 1.],\n",
       "       [0., 1., 1., 1., 0.],\n",
       "       [0., 0., 0., 0., 1.],\n",
       "       [1., 1., 0., 0., 1.],\n",
       "       [0., 1., 1., 1., 1.],\n",
       "       [1., 1., 1., 0., 1.]])"
      ]
     },
     "execution_count": 8,
     "metadata": {},
     "output_type": "execute_result"
    }
   ],
   "source": [
    "env = test_environment(10, 5)\n",
    "env.goal"
   ]
  },
  {
   "cell_type": "code",
   "execution_count": 9,
   "metadata": {},
   "outputs": [
    {
     "name": "stdout",
     "output_type": "stream",
     "text": [
      "Episode 50, Score 0.3267\tAverage Score: -0.4768 \n",
      "Episode 100, Score 0.6693\tAverage Score: 0.0261 \n",
      "Episode 150, Score 0.7580\tAverage Score: 0.6200 \n",
      "Episode 200, Score 0.7909\tAverage Score: 0.7445 \n",
      "Episode 250, Score 0.8165\tAverage Score: 0.7922 \n"
     ]
    },
    {
     "data": {
      "image/png": "[encoded data removed]",
      "text/plain": [
       "<Figure size 432x288 with 1 Axes>"
      ]
     },
     "metadata": {},
     "output_type": "display_data"
    }
   ],
   "source": [
    "#This is the result with BatchNorm, with HER\n",
    "agent = DQN_Agent(env=env, state_size=env.length, action_size=env.length, seed=1, prioritized=False, Duel=False, fc_units=[64]*3, BatchNorm=True)\n",
    "means = dqn(n_episode=250, HER=True)\n",
    "plt.plot(means)\n",
    "plt.show()"
   ]
  },
  {
   "cell_type": "code",
   "execution_count": 10,
   "metadata": {},
   "outputs": [
    {
     "name": "stdout",
     "output_type": "stream",
     "text": [
      "Episode 50, Score 0.2897\tAverage Score: -0.5362 \n",
      "Episode 100, Score 0.6540\tAverage Score: -0.0007 \n",
      "Episode 150, Score 0.7617\tAverage Score: 0.6243 \n",
      "Episode 200, Score 0.8020\tAverage Score: 0.7459 \n",
      "Episode 250, Score 0.8143\tAverage Score: 0.7922 \n"
     ]
    },
    {
     "data": {
      "image/png": "[encoded data removed]",
      "text/plain": [
       "<Figure size 432x288 with 1 Axes>"
      ]
     },
     "metadata": {},
     "output_type": "display_data"
    }
   ],
   "source": [
    "#This is the result with BatchNorm, without HER\n",
    "agent = DQN_Agent(env=env, state_size=env.length, action_size=env.length, seed=1, prioritized=False, Duel=False, fc_units=[64]*3, BatchNorm=True)\n",
    "means = dqn(n_episode=250, HER=False)\n",
    "plt.plot(means)\n",
    "plt.show()"
   ]
  },
  {
   "cell_type": "code",
   "execution_count": 11,
   "metadata": {},
   "outputs": [
    {
     "name": "stdout",
     "output_type": "stream",
     "text": [
      "Episode 50, Score 0.3595\tAverage Score: -0.5029 \n",
      "Episode 100, Score 0.6578\tAverage Score: 0.0153 \n",
      "Episode 150, Score 0.7496\tAverage Score: 0.6220 \n",
      "Episode 200, Score 0.7972\tAverage Score: 0.7439 \n",
      "Episode 250, Score 0.8140\tAverage Score: 0.7918 \n"
     ]
    },
    {
     "data": {
      "image/png": "[encoded data removed]",
      "text/plain": [
       "<Figure size 432x288 with 1 Axes>"
      ]
     },
     "metadata": {},
     "output_type": "display_data"
    }
   ],
   "source": [
    "#This is the result without BatchNorm, with HER\n",
    "agent = DQN_Agent(env=env, state_size=env.length, action_size=env.length, seed=1, prioritized=False, Duel=False, fc_units=[64]*3, BatchNorm=False)\n",
    "means = dqn(n_episode=250, HER=True)\n",
    "plt.plot(means)\n",
    "plt.show()"
   ]
  },
  {
   "cell_type": "code",
   "execution_count": 12,
   "metadata": {},
   "outputs": [
    {
     "name": "stdout",
     "output_type": "stream",
     "text": [
      "Episode 50, Score 0.2590\tAverage Score: -0.5041 \n",
      "Episode 100, Score 0.6508\tAverage Score: 0.0152 \n",
      "Episode 150, Score 0.7707\tAverage Score: 0.6244 \n",
      "Episode 200, Score 0.8002\tAverage Score: 0.7458 \n",
      "Episode 250, Score 0.8150\tAverage Score: 0.7918 \n"
     ]
    },
    {
     "data": {
      "image/png": "[encoded data removed]",
      "text/plain": [
       "<Figure size 432x288 with 1 Axes>"
      ]
     },
     "metadata": {},
     "output_type": "display_data"
    }
   ],
   "source": [
    "#This is the result without BatchNorm, without HER\n",
    "agent = DQN_Agent(env=env, state_size=env.length, action_size=env.length, seed=1, prioritized=False, Duel=False, fc_units=[64]*3, BatchNorm=False)\n",
    "means = dqn(n_episode=250, HER=False)\n",
    "plt.plot(means)\n",
    "plt.show()"
   ]
  },
  {
   "cell_type": "markdown",
   "metadata": {},
   "source": [
    "It seems that this task is very simple, all kinds of agents performs similarly.\n",
    "\n",
    "Now we make it harder and check the result of $n=10$"
   ]
  },
  {
   "cell_type": "code",
   "execution_count": 13,
   "metadata": {},
   "outputs": [
    {
     "data": {
      "text/plain": [
       "array([[0., 1., 0., 1., 0., 1., 1., 1., 1., 0.],\n",
       "       [0., 0., 0., 1., 0., 0., 0., 0., 0., 0.],\n",
       "       [0., 0., 1., 0., 1., 0., 0., 0., 0., 1.],\n",
       "       [0., 0., 1., 0., 0., 1., 0., 0., 0., 0.],\n",
       "       [0., 1., 1., 0., 0., 1., 0., 1., 0., 1.],\n",
       "       [0., 0., 1., 0., 0., 0., 1., 0., 1., 1.],\n",
       "       [0., 0., 1., 0., 1., 1., 1., 0., 0., 1.],\n",
       "       [1., 0., 0., 1., 0., 1., 1., 0., 0., 1.],\n",
       "       [1., 0., 0., 1., 1., 0., 1., 0., 0., 0.],\n",
       "       [0., 1., 1., 1., 1., 0., 0., 1., 1., 1.]])"
      ]
     },
     "execution_count": 13,
     "metadata": {},
     "output_type": "execute_result"
    }
   ],
   "source": [
    "env = test_environment(10, 10)\n",
    "env.goal"
   ]
  },
  {
   "cell_type": "code",
   "execution_count": 12,
   "metadata": {},
   "outputs": [
    {
     "name": "stdout",
     "output_type": "stream",
     "text": [
      "Episode 50, Score -31.5786\tAverage Score: -38.9915 \n",
      "Episode 100, Score -8.8341\tAverage Score: -33.1652 \n",
      "Episode 150, Score 0.4177\tAverage Score: -13.7699 \n",
      "Episode 200, Score 0.4990\tAverage Score: 0.1227 8\n",
      "Episode 250, Score 0.5330\tAverage Score: 0.4806 \n",
      "Episode 300, Score 0.5570\tAverage Score: 0.5345 \n",
      "Episode 350, Score 0.5811\tAverage Score: 0.5637 \n",
      "Episode 400, Score 0.5936\tAverage Score: 0.5783 \n",
      "Episode 450, Score 0.5958\tAverage Score: 0.5864 \n",
      "Episode 500, Score 0.5975\tAverage Score: 0.5913 \n"
     ]
    },
    {
     "data": {
      "image/png": "[encoded data removed]",
      "text/plain": [
       "<Figure size 432x288 with 1 Axes>"
      ]
     },
     "metadata": {},
     "output_type": "display_data"
    }
   ],
   "source": [
    "#With BatchNorm, without HER\n",
    "agent = DQN_Agent(env=env, state_size=env.length, action_size=env.length, seed=1, prioritized=False, Duel=False, fc_units=[128]*3, BatchNorm=True)\n",
    "means = dqn(n_episode=500, HER=False)\n",
    "plt.plot(means)\n",
    "plt.show()"
   ]
  },
  {
   "cell_type": "code",
   "execution_count": 17,
   "metadata": {},
   "outputs": [
    {
     "name": "stdout",
     "output_type": "stream",
     "text": [
      "Episode 50, Score -1.9455\tAverage Score: -26.6624 \n",
      "Episode 100, Score 0.0990\tAverage Score: -13.4975 \n",
      "Episode 150, Score 0.4148\tAverage Score: -0.0277 \n",
      "Episode 200, Score 0.5045\tAverage Score: 0.3613 \n",
      "Episode 250, Score 0.5381\tAverage Score: 0.4804 \n",
      "Episode 300, Score 0.5565\tAverage Score: 0.5346 \n",
      "Episode 350, Score 0.5850\tAverage Score: 0.5632 \n",
      "Episode 400, Score 0.5869\tAverage Score: 0.5782 \n",
      "Episode 450, Score 0.5898\tAverage Score: 0.5867 \n",
      "Episode 500, Score 0.5995\tAverage Score: 0.5917 \n"
     ]
    },
    {
     "data": {
      "image/png": "[encoded data removed]",
      "text/plain": [
       "<Figure size 432x288 with 1 Axes>"
      ]
     },
     "metadata": {},
     "output_type": "display_data"
    }
   ],
   "source": [
    "#Without BatchNorm, without HER\n",
    "agent = DQN_Agent(env=env, state_size=env.length, action_size=env.length, seed=1, prioritized=False, Duel=False, fc_units=[128]*3, BatchNorm=False)\n",
    "means = dqn(n_episode=500, HER=False)\n",
    "plt.plot(means)\n",
    "plt.show()"
   ]
  },
  {
   "cell_type": "code",
   "execution_count": 14,
   "metadata": {},
   "outputs": [
    {
     "name": "stdout",
     "output_type": "stream",
     "text": [
      "Episode 50, Score -1.2797\tAverage Score: -14.5157 \n",
      "Episode 100, Score 0.1103\tAverage Score: -7.4234 \n",
      "Episode 150, Score 0.3788\tAverage Score: -0.0276 \n",
      "Episode 200, Score 0.4871\tAverage Score: 0.3609 \n",
      "Episode 250, Score 0.5551\tAverage Score: 0.4814 \n",
      "Episode 300, Score 0.5597\tAverage Score: 0.5341 \n",
      "Episode 350, Score 0.5699\tAverage Score: 0.5618 \n",
      "Episode 400, Score 0.5893\tAverage Score: 0.5781 \n",
      "Episode 450, Score 0.5930\tAverage Score: 0.5873 \n",
      "Episode 500, Score 0.5950\tAverage Score: 0.5913 \n"
     ]
    },
    {
     "data": {
      "image/png": "[encoded data removed]",
      "text/plain": [
       "<Figure size 432x288 with 1 Axes>"
      ]
     },
     "metadata": {},
     "output_type": "display_data"
    }
   ],
   "source": [
    "#With BatchNorm, with HER\n",
    "agent = DQN_Agent(env=env, state_size=env.length, action_size=env.length, seed=1, prioritized=False, Duel=False, fc_units=[128]*3, BatchNorm=True)\n",
    "means = dqn(n_episode=500, HER=True)\n",
    "plt.plot(means)\n",
    "plt.show()"
   ]
  },
  {
   "cell_type": "code",
   "execution_count": 18,
   "metadata": {},
   "outputs": [
    {
     "name": "stdout",
     "output_type": "stream",
     "text": [
      "Episode 50, Score -0.9854\tAverage Score: -11.4360 \n",
      "Episode 100, Score 0.1634\tAverage Score: -5.8752 \n",
      "Episode 150, Score 0.3653\tAverage Score: -0.0215 \n",
      "Episode 200, Score 0.4936\tAverage Score: 0.3559 \n",
      "Episode 250, Score 0.5574\tAverage Score: 0.4790 \n",
      "Episode 300, Score 0.5587\tAverage Score: 0.5352 \n",
      "Episode 350, Score 0.5699\tAverage Score: 0.5628 \n",
      "Episode 400, Score 0.5812\tAverage Score: 0.5781 \n",
      "Episode 450, Score 0.5987\tAverage Score: 0.5872 \n",
      "Episode 500, Score 0.5882\tAverage Score: 0.5919 \n"
     ]
    },
    {
     "data": {
      "image/png": "[encoded data removed]",
      "text/plain": [
       "<Figure size 432x288 with 1 Axes>"
      ]
     },
     "metadata": {},
     "output_type": "display_data"
    }
   ],
   "source": [
    "#Without BatchNorm, with HER\n",
    "agent = DQN_Agent(env=env, state_size=env.length, action_size=env.length, seed=1, prioritized=False, Duel=False, fc_units=[128]*3, BatchNorm=False)\n",
    "means = dqn(n_episode=500, HER=True)\n",
    "plt.plot(means)\n",
    "plt.show()"
   ]
  },
  {
   "cell_type": "markdown",
   "metadata": {},
   "source": [
    "We can see as the task gets harder, the agents takes harder to learn to reach the goal. It seems that Batch normalization does not help the training, if not harms but HER greatly increase the learning speed.\n",
    "\n",
    "In the next few blocks you will see that as task gets even harder ($n=15, 20$), agent cannot learning anything meaningful without the help of HER. Batch normalization on the other hand, does not help or harm much."
   ]
  },
  {
   "cell_type": "code",
   "execution_count": 19,
   "metadata": {},
   "outputs": [
    {
     "data": {
      "text/plain": [
       "array([[1., 1., 0., 0., 0., 0., 1., 1., 0., 0., 0., 0., 1., 1., 0.],\n",
       "       [0., 1., 0., 1., 1., 0., 0., 0., 0., 1., 0., 1., 1., 0., 1.],\n",
       "       [1., 0., 0., 1., 0., 1., 0., 1., 0., 0., 1., 1., 1., 0., 0.],\n",
       "       [1., 0., 1., 0., 1., 0., 0., 1., 0., 1., 1., 0., 0., 1., 1.],\n",
       "       [1., 0., 1., 1., 1., 1., 1., 1., 1., 1., 0., 0., 0., 1., 0.],\n",
       "       [0., 1., 0., 0., 0., 0., 1., 0., 0., 0., 1., 0., 1., 0., 0.],\n",
       "       [1., 0., 0., 1., 0., 1., 1., 0., 0., 0., 0., 1., 1., 1., 0.],\n",
       "       [1., 1., 1., 1., 0., 0., 0., 0., 0., 0., 1., 1., 1., 0., 1.],\n",
       "       [0., 0., 1., 1., 0., 1., 0., 0., 0., 1., 0., 1., 1., 0., 0.],\n",
       "       [0., 1., 1., 1., 1., 0., 1., 0., 1., 1., 1., 1., 1., 1., 1.]])"
      ]
     },
     "execution_count": 19,
     "metadata": {},
     "output_type": "execute_result"
    }
   ],
   "source": [
    "env = test_environment(10, 15)\n",
    "env.goal"
   ]
  },
  {
   "cell_type": "code",
   "execution_count": 20,
   "metadata": {},
   "outputs": [
    {
     "name": "stdout",
     "output_type": "stream",
     "text": [
      "Episode 50, Score -75.0000\tAverage Score: -73.6309 \n",
      "Episode 100, Score -75.0000\tAverage Score: -74.0418 \n",
      "Episode 150, Score -75.0000\tAverage Score: -74.4935 \n",
      "Episode 200, Score -75.0000\tAverage Score: -74.4579 \n",
      "Episode 250, Score -75.0000\tAverage Score: -74.6430 \n",
      "Episode 300, Score -70.6600\tAverage Score: -74.7546 \n",
      "Episode 350, Score -75.0000\tAverage Score: -74.7334 \n",
      "Episode 400, Score -75.0000\tAverage Score: -74.8589 \n",
      "Episode 450, Score -75.0000\tAverage Score: -74.9279 \n",
      "Episode 500, Score -75.0000\tAverage Score: -74.9354 \n"
     ]
    },
    {
     "data": {
      "image/png": "[encoded data removed]",
      "text/plain": [
       "<Figure size 432x288 with 1 Axes>"
      ]
     },
     "metadata": {},
     "output_type": "display_data"
    }
   ],
   "source": [
    "#With BatchNorm, without HER\n",
    "agent = DQN_Agent(env=env, state_size=env.length, action_size=env.length, seed=1, prioritized=False, Duel=False, fc_units=[128]*3, BatchNorm=True)\n",
    "means = dqn(n_episode=500, HER=False)\n",
    "plt.plot(means)\n",
    "plt.show()"
   ]
  },
  {
   "cell_type": "code",
   "execution_count": 21,
   "metadata": {},
   "outputs": [
    {
     "name": "stdout",
     "output_type": "stream",
     "text": [
      "Episode 50, Score -75.0000\tAverage Score: -73.5869 \n",
      "Episode 100, Score -75.0000\tAverage Score: -73.9016 \n",
      "Episode 150, Score -75.0000\tAverage Score: -74.2022 \n",
      "Episode 200, Score -75.0000\tAverage Score: -74.4953 \n",
      "Episode 250, Score -75.0000\tAverage Score: -74.7606 \n",
      "Episode 300, Score -75.0000\tAverage Score: -74.8594 \n",
      "Episode 350, Score -75.0000\tAverage Score: -74.9381 \n",
      "Episode 400, Score -75.0000\tAverage Score: -74.8388 \n",
      "Episode 450, Score -75.0000\tAverage Score: -74.9007 \n",
      "Episode 500, Score -75.0000\tAverage Score: -74.8766 \n"
     ]
    },
    {
     "data": {
      "image/png": "[encoded data removed]",
      "text/plain": [
       "<Figure size 432x288 with 1 Axes>"
      ]
     },
     "metadata": {},
     "output_type": "display_data"
    }
   ],
   "source": [
    "#Without BatchNorm, without HER\n",
    "agent = DQN_Agent(env=env, state_size=env.length, action_size=env.length, seed=1, prioritized=False, Duel=False, fc_units=[128]*3, BatchNorm=False)\n",
    "means = dqn(n_episode=500, HER=False)\n",
    "plt.plot(means)\n",
    "plt.show()"
   ]
  },
  {
   "cell_type": "code",
   "execution_count": 16,
   "metadata": {},
   "outputs": [
    {
     "name": "stdout",
     "output_type": "stream",
     "text": [
      "Episode 50, Score -5.2245\tAverage Score: -54.4337 \n",
      "Episode 100, Score -0.4775\tAverage Score: -27.9094 \n",
      "Episode 150, Score 0.0029\tAverage Score: -0.7826 4\n",
      "Episode 200, Score 0.1715\tAverage Score: -0.0366 \n",
      "Episode 250, Score 0.2687\tAverage Score: 0.1639 \n",
      "Episode 300, Score 0.2923\tAverage Score: 0.2480 \n",
      "Episode 350, Score 0.3331\tAverage Score: 0.2913 \n",
      "Episode 400, Score 0.3381\tAverage Score: 0.3166 \n",
      "Episode 450, Score 0.3483\tAverage Score: 0.3305 \n",
      "Episode 500, Score 0.3443\tAverage Score: 0.3372 \n"
     ]
    },
    {
     "data": {
      "image/png": "[encoded data removed]",
      "text/plain": [
       "<Figure size 432x288 with 1 Axes>"
      ]
     },
     "metadata": {},
     "output_type": "display_data"
    }
   ],
   "source": [
    "#With BatchNorm, with HER\n",
    "agent = DQN_Agent(env=env, state_size=env.length, action_size=env.length, seed=1, prioritized=False, Duel=False, fc_units=[128]*3, BatchNorm=True)\n",
    "means = dqn(n_episode=500, HER=True)\n",
    "plt.plot(means)\n",
    "plt.show()"
   ]
  },
  {
   "cell_type": "code",
   "execution_count": 21,
   "metadata": {},
   "outputs": [
    {
     "name": "stdout",
     "output_type": "stream",
     "text": [
      "Episode 50, Score -3.4752\tAverage Score: -40.5658 \n",
      "Episode 100, Score -0.5042\tAverage Score: -20.9577 \n",
      "Episode 150, Score 0.0105\tAverage Score: -0.7648 2\n",
      "Episode 200, Score 0.1996\tAverage Score: -0.0378 \n",
      "Episode 250, Score 0.2574\tAverage Score: 0.1628 \n",
      "Episode 300, Score 0.2792\tAverage Score: 0.2481 \n",
      "Episode 350, Score 0.3112\tAverage Score: 0.2912 \n",
      "Episode 400, Score 0.3272\tAverage Score: 0.3168 \n",
      "Episode 450, Score 0.3437\tAverage Score: 0.3310 \n",
      "Episode 500, Score 0.3408\tAverage Score: 0.3372 \n"
     ]
    },
    {
     "data": {
      "image/png": "[encoded data removed]",
      "text/plain": [
       "<Figure size 432x288 with 1 Axes>"
      ]
     },
     "metadata": {},
     "output_type": "display_data"
    }
   ],
   "source": [
    "#Without BatchNorm, with HER\n",
    "agent = DQN_Agent(env=env, state_size=env.length, action_size=env.length, seed=1, prioritized=False, Duel=False, fc_units=[128]*3, BatchNorm=False)\n",
    "means = dqn(n_episode=500, HER=True)\n",
    "plt.plot(means)\n",
    "plt.show()"
   ]
  },
  {
   "cell_type": "code",
   "execution_count": 17,
   "metadata": {},
   "outputs": [
    {
     "data": {
      "text/plain": [
       "array([[1., 1., 1., 1., 1., 0., 0., 0., 1., 0., 0., 1., 1., 1., 1., 0.,\n",
       "        1., 0., 1., 1.],\n",
       "       [0., 0., 0., 1., 1., 0., 0., 1., 0., 1., 0., 1., 0., 0., 0., 0.,\n",
       "        1., 0., 0., 0.],\n",
       "       [1., 0., 1., 1., 0., 0., 0., 0., 0., 0., 0., 0., 0., 0., 0., 1.,\n",
       "        0., 1., 1., 0.],\n",
       "       [0., 1., 1., 0., 1., 1., 1., 1., 1., 0., 1., 1., 1., 1., 0., 0.,\n",
       "        0., 1., 1., 1.],\n",
       "       [1., 1., 0., 0., 1., 0., 1., 0., 0., 1., 1., 0., 1., 1., 0., 0.,\n",
       "        1., 1., 0., 0.],\n",
       "       [1., 0., 1., 1., 1., 0., 0., 1., 1., 1., 0., 1., 1., 1., 1., 0.,\n",
       "        1., 1., 0., 0.],\n",
       "       [1., 1., 0., 1., 0., 0., 0., 0., 0., 1., 0., 0., 1., 1., 0., 1.,\n",
       "        1., 1., 0., 1.],\n",
       "       [1., 0., 1., 0., 1., 0., 1., 1., 1., 1., 1., 1., 0., 1., 0., 1.,\n",
       "        1., 0., 1., 0.],\n",
       "       [0., 1., 1., 1., 1., 1., 0., 1., 0., 1., 0., 0., 0., 1., 0., 1.,\n",
       "        1., 1., 0., 0.],\n",
       "       [1., 0., 0., 1., 0., 1., 1., 0., 0., 0., 1., 1., 0., 1., 1., 1.,\n",
       "        0., 0., 0., 0.]])"
      ]
     },
     "execution_count": 17,
     "metadata": {},
     "output_type": "execute_result"
    }
   ],
   "source": [
    "env = test_environment(10, 20)\n",
    "env.goal"
   ]
  },
  {
   "cell_type": "code",
   "execution_count": 18,
   "metadata": {},
   "outputs": [
    {
     "name": "stdout",
     "output_type": "stream",
     "text": [
      "Episode 50, Score -100.0000\tAverage Score: -99.9266 \n",
      "Episode 100, Score -1.2747\tAverage Score: -65.8942 \n",
      "Episode 150, Score -0.3922\tAverage Score: -16.3281 \n",
      "Episode 200, Score -0.1609\tAverage Score: -0.5236 \n",
      "Episode 250, Score -0.0523\tAverage Score: -0.1666 \n",
      "Episode 300, Score 0.0339\tAverage Score: -0.0410 \n",
      "Episode 350, Score 0.0574\tAverage Score: 0.0210 1\n",
      "Episode 400, Score 0.0778\tAverage Score: 0.0556 \n",
      "Episode 450, Score 0.0776\tAverage Score: 0.0729 \n",
      "Episode 500, Score 0.0661\tAverage Score: 0.0813 \n"
     ]
    },
    {
     "data": {
      "image/png": "[encoded data removed]",
      "text/plain": [
       "<Figure size 432x288 with 1 Axes>"
      ]
     },
     "metadata": {},
     "output_type": "display_data"
    }
   ],
   "source": [
    "#With BatchNorm, with HER\n",
    "agent = DQN_Agent(env=env, state_size=env.length, action_size=env.length, seed=1, prioritized=False, Duel=False, fc_units=[128]*3, BatchNorm=True)\n",
    "means = dqn(n_episode=500, HER=True)\n",
    "plt.plot(means)\n",
    "plt.show()"
   ]
  },
  {
   "cell_type": "code",
   "execution_count": 24,
   "metadata": {},
   "outputs": [
    {
     "name": "stdout",
     "output_type": "stream",
     "text": [
      "Episode 50, Score -98.2100\tAverage Score: -98.6921 0\n",
      "Episode 100, Score -1.2674\tAverage Score: -55.6194 \n",
      "Episode 150, Score -0.3851\tAverage Score: -6.6467 \n",
      "Episode 200, Score -0.1706\tAverage Score: -0.5008 \n",
      "Episode 250, Score -0.0688\tAverage Score: -0.1669 \n",
      "Episode 300, Score 0.0206\tAverage Score: -0.0384 \n",
      "Episode 350, Score 0.0658\tAverage Score: 0.0232 \n",
      "Episode 400, Score 0.0615\tAverage Score: 0.0560 \n",
      "Episode 450, Score 0.0936\tAverage Score: 0.0743 \n",
      "Episode 500, Score 0.0731\tAverage Score: 0.0825 \n"
     ]
    },
    {
     "data": {
      "image/png": "[encoded data removed]",
      "text/plain": [
       "<Figure size 432x288 with 1 Axes>"
      ]
     },
     "metadata": {},
     "output_type": "display_data"
    }
   ],
   "source": [
    "#Without BatchNorm, with HER\n",
    "agent = DQN_Agent(env=env, state_size=env.length, action_size=env.length, seed=1, prioritized=False, Duel=False, fc_units=[128]*3, BatchNorm=False)\n",
    "means = dqn(n_episode=500, HER=True)\n",
    "plt.plot(means)\n",
    "plt.show()"
   ]
  },
  {
   "cell_type": "markdown",
   "metadata": {},
   "source": [
    "## Hindsights for PPO?\n",
    "\n",
    "Now I am trying to extend hindsight replay to PPO methods. Although this is not mentioned in the original paper since PPO does not explicitly holds a replay buffer, it still has a temporary replay buffer for each episode. I think this guarantees that PPO can also take advantage of hindsight. I will update this when the experiments are finished."
   ]
  },
  {
   "cell_type": "code",
   "execution_count": null,
   "metadata": {},
   "outputs": [],
   "source": [
    "class Discrete_Actor(nn.Module):\n",
    "    \"\"\"Actor (Policy) Model.\"\"\"\n",
    "\n",
    "    def __init__(self, state_size, action_size, fc_units=None, BatchNorm=False):\n",
    "        \"\"\"Initialize parameters and build model.\n",
    "        Params\n",
    "        ======\n",
    "            state_size (int): Dimension of each state\n",
    "            action_size (int): Dimension of each action\n",
    "            seed (int): Random seed\n",
    "        \"\"\"\n",
    "        super(Discrete_Actor, self).__init__()\n",
    "        if fc_units is None:\n",
    "            fc_units = [256, 256, 256]\n",
    "        self.fc1=nn.Linear(2*state_size,fc_units[0])\n",
    "        self.fc2=nn.Linear(fc_units[0],fc_units[1])\n",
    "        self.fc3=nn.Linear(fc_units[1],fc_units[2])\n",
    "        self.fc4=nn.Linear(fc_units[2],action_size)\n",
    "        self.bn1 = nn.BatchNorm1d(fc_units[0])\n",
    "        self.bn2 = nn.BatchNorm1d(fc_units[1])\n",
    "        self.bn3 = nn.BatchNorm1d(fc_units[2])\n",
    "        self.output = nn.LogSoftmax(dim = 1)\n",
    "        self.BatchNorm = BatchNorm\n",
    "\n",
    "    def forward(self, state, goal):\n",
    "        \"\"\"Build a network that maps state -> action values.\"\"\"\n",
    "        x = torch.cat([state, goal], dim=1)\n",
    "        if self.BatchNorm:\n",
    "            x=self.bn1(F.relu(self.fc1(x)))\n",
    "            x=self.bn2(F.relu(self.fc2(x)))\n",
    "            x=self.bn3(F.relu(self.fc3(x)))\n",
    "        else:\n",
    "            x = F.relu(self.fc1(x))\n",
    "            x = F.relu(self.fc2(x))\n",
    "            x = F.relu(self.fc3(x))\n",
    "        x=self.output(self.fc4(x))\n",
    "        return(x)\n",
    "    \n",
    "class Critic(nn.Module):\n",
    "    '''This critic does not consider action'''\n",
    "    def __init__(self, state_size, hidden=None, BatchNorm=False):\n",
    "        super(Critic, self).__init__()\n",
    "        if hidden is None:\n",
    "            hidden = [256, 256, 256]\n",
    "        self.fc1 = nn.Linear(2*state_size, hidden[0])\n",
    "        self.fc2 = nn.Linear(hidden[0], hidden[1])\n",
    "        self.fc3 = nn.Linear(hidden[1], hidden[2])\n",
    "        self.fc4 = nn.Linear(hidden[2], 1)\n",
    "        self.bn1 = nn.BatchNorm1d(hidden[0])\n",
    "        self.bn2 = nn.BatchNorm1d(hidden[1])\n",
    "        self.bn3 = nn.BatchNorm1d(hidden[2])\n",
    "        self.BatchNorm = BatchNorm\n",
    "        \n",
    "    def forward(self, state, goal):\n",
    "        x = torch.cat([state, goal], dim=1)\n",
    "        if self.BatchNorm:\n",
    "            x = self.bn1(F.relu(self.fc1(x)))\n",
    "            x = self.bn2(F.relu(self.fc2(x)))\n",
    "            x = self.bn3(F.relu(self.fc3(x)))\n",
    "        else:\n",
    "            x = F.relu(self.fc1(x))\n",
    "            x = F.relu(self.fc2(x))\n",
    "            x = F.relu(self.fc3(x))\n",
    "        x = self.fc4(x)\n",
    "        return x"
   ]
  },
  {
   "cell_type": "code",
   "execution_count": null,
   "metadata": {},
   "outputs": [],
   "source": [
    "from torch.utils.data import Dataset, TensorDataset, DataLoader\n",
    "\n",
    "Batch_Size = 128\n",
    "GAMMA = 0.99            # discount factor for reward\n",
    "TAU = 0.95              # discount factor for advantage\n",
    "Beta = 0                # Coefficient for KL divergence\n",
    "LR1 = 1e-4              # learning rate \n",
    "LR2 = 1e-4              # learning rate \n",
    "Eps = 0.1               # torelated error of ratio\n",
    "\n",
    "device = torch.device(\"cuda:0\" if torch.cuda.is_available() else \"cpu\")\n",
    "\n",
    "class Agent():\n",
    "    \"\"\"Interacts with and learns from the environment.\"\"\"\n",
    "\n",
    "    def __init__(self, state_size, action_size, lr1=LR1, lr2=LR2, gamma=GAMMA, tau=TAU, beta=Beta, eps=Eps, method='MC', learning_time=4, fc_units=None, BatchNorm=False):\n",
    "        \"\"\"Initialize an Agent object.\n",
    "        \n",
    "        Params\n",
    "        ======\n",
    "            state_size (int): dimension of each state\n",
    "            action_size (int): dimension of each action\n",
    "            lr1/lr2 (float): learning rate for actor/critic\n",
    "            tau (float): decay rate for advantage function\n",
    "            gamma (float): decay rate for future rewards\n",
    "        \"\"\"\n",
    "        self.state_size = state_size\n",
    "        self.action_size = action_size\n",
    "        self.lr1 = lr1\n",
    "        self.lr2 = lr2\n",
    "        self.gamma = gamma\n",
    "        self.tau = tau\n",
    "        self.beta = beta\n",
    "        self.batch_size = Batch_Size\n",
    "        self.eps = eps\n",
    "        \n",
    "        self.actor = Discrete_Actor(state_size, action_size, fc_units, BatchNorm=BatchNorm).to(device)\n",
    "        self.critic = Critic(state_size, hidden=fc_units, BatchNorm=BatchNorm).to(device)\n",
    "        self.actor_optimizer = optim.Adam(self.actor.parameters(), lr=self.lr1)\n",
    "        self.critic_optimizer = optim.Adam(self.critic.parameters(), lr=self.lr2)\n",
    "        if method in ['MC', 'TD']:\n",
    "            self.method = method\n",
    "        else:\n",
    "            print('Only support MC or TD method. Input not supported. Use MC by default')\n",
    "            self.method = 'MC'\n",
    "        \n",
    "        self.learn_time = learning_time # How many updates for each episode\n",
    "\n",
    "    def act(self, state, goal):\n",
    "        \"\"\"\n",
    "        Returns actions' probabilities for given state as per current policy.\n",
    "        Also saves the history for later update.\n",
    "        \n",
    "        Inputs:\n",
    "        ==========================\n",
    "        state(float): the current state, which is a tensor\n",
    "        \"\"\"\n",
    "        self.actor.eval()\n",
    "        self.critic.eval()\n",
    "        log_probs = self.actor(state, goal)\n",
    "        values = self.critic(state, goal)\n",
    "        self.actor.train()\n",
    "        self.critic.train()\n",
    "        return log_probs, values\n",
    "\n",
    "    def learn(self, states, goals, actions, log_probs, advantages, returns):\n",
    "        \"\"\"Update value parameters using the memory of current episode\"\"\"\n",
    "        \n",
    "        mydata = TensorDataset(states.detach(), goals.detach(), actions.detach(), log_probs.detach(), advantages.detach(), returns.detach())\n",
    "        Loader = DataLoader(mydata, batch_size = self.batch_size, shuffle = True)\n",
    "        \n",
    "        for _ in range(self.learn_time):\n",
    "            for sampled_states, sampled_goals, sampled_actions, sampled_log_probs, sampled_advantages, sampled_returns in iter(Loader):\n",
    "                batch_number += 1\n",
    "                sampled_actions = sampled_actions.long()\n",
    "                new_log_probs, _ = self.act(sampled_states, sampled_goals)\n",
    "                ratio = (new_log_probs - sampled_log_probs).exp().gather(1, sampled_actions)\n",
    "                KL = -new_log_probs.exp()*(new_log_probs - sampled_log_probs)\n",
    "                KL = torch.sum(KL, dim=1, keepdim=True)\n",
    "                \n",
    "                estimated_values = self.critic(sampled_states, sampled_goals)\n",
    "                \n",
    "                Actor_Loss = -torch.min(input=ratio*sampled_advantages, other=torch.clamp(ratio, 1-self.eps, 1+self.eps)*sampled_advantages).mean()\n",
    "                Actor_Loss -= self.beta*KL.mean()\n",
    "                if torch.isnan(Actor_Loss):\n",
    "                    None\n",
    "                else:\n",
    "                    self.actor_optimizer.zero_grad()\n",
    "                    Actor_Loss.backward()\n",
    "                    torch.nn.utils.clip_grad_norm_(self.actor.parameters(), 1)\n",
    "                    self.actor_optimizer.step()\n",
    "                \n",
    "                Critic_Loss = 0.5*(estimated_values - sampled_returns).pow(2).mean()\n",
    "                if torch.isnan(Critic_Loss):\n",
    "                    None\n",
    "                else:\n",
    "                    self.critic_optimizer.zero_grad()\n",
    "                    Critic_Loss.backward()\n",
    "                    torch.nn.utils.clip_grad_norm_(self.critic.parameters(), 1)\n",
    "                    self.critic_optimizer.step() "
   ]
  },
  {
   "cell_type": "code",
   "execution_count": null,
   "metadata": {},
   "outputs": [],
   "source": [
    "def PPO_Discrete(n_episodes, max_t, agent, env, HER=True):\n",
    "    \"\"\"\n",
    "    Monitor the training process\n",
    "    Params\n",
    "    ======\n",
    "        env, brain_name and agent are assumed to be defined elsewhere\n",
    "        n_episodes (int): maximum number of training episodes\n",
    "        max_t (int): maximum number of timesteps per episode\n",
    "        UPDATE (int): number of episodes before each update\n",
    "    \"\"\"\n",
    "    scores_window = deque(maxlen=100)  # last 100 scores\n",
    "    means = []\n",
    "    state_history = []\n",
    "    goal_history = []\n",
    "    action_history = []\n",
    "    values_history = []\n",
    "    reward_history = []\n",
    "    log_prob_history = []\n",
    "    done_history = []\n",
    "    for i_episode in range(1, n_episodes+1):\n",
    "            \n",
    "        env_info = env.reset()\n",
    "        episodic_rewards = []\n",
    "        state = env_info.vector_observations.copy()\n",
    "        goal = env.goal.copy()\n",
    "        score = np.zeros((env.num_agents,1))\n",
    "        for t in range(1, max_t+1):\n",
    "            log_probs, values = agent.act(torch.tensor(state, dtype=torch.float32).to(device),\n",
    "                                          torch.tensor(goal, dtype=torch.float32).to(device))\n",
    "            probs = np.exp(log_probs.detach().numpy())\n",
    "            action = np.zeros(env.num_agents)\n",
    "            for j in range(env.num_agents):\n",
    "                action[j] = np.random.choice(a=agent.action_size, size=1, replace=False, p=probs[j,:])\n",
    "            action = np.array(action, dtype=int)\n",
    "            env_info = env.step(action)\n",
    "            next_state = env_info.vector_observations.copy()\n",
    "            next_goal = env.goal.copy()\n",
    "            reward = env_info.rewards.copy()\n",
    "            done = env_info.local_done.copy()\n",
    "            \n",
    "            state_history.append(torch.tensor(state, dtype=torch.float32).to(device))\n",
    "            goal_history.append(torch.tensor(goal, dtype=torch.float32).to(device))\n",
    "            action_history.append(torch.tensor(action, dtype=torch.int8).to(device))\n",
    "            values_history.append(torch.tensor(values.detach(), dtype=torch.float32).to(device))\n",
    "            reward_history.append(torch.tensor(reward, dtype=torch.float32).to(device))\n",
    "            log_prob_history.append(log_probs)\n",
    "            done_history.append(torch.tensor(done.astype(float), dtype=torch.float32).to(device))\n",
    "            \n",
    "            state = next_state.copy()\n",
    "            goal = next_goal.copy()\n",
    "            score += reward.copy()\n",
    "            \n",
    "            for j in range(env.num_agents):\n",
    "                if done[j]:\n",
    "                    episodic_rewards.append(score[j].copy())\n",
    "                    score[j] = 0\n",
    "                \n",
    "        scores_window.append(np.mean(episodic_rewards))       # save most recent score\n",
    "        means.append(np.mean(episodic_rewards))              # save most recent score\n",
    "        print('\\rEpisode {}\\tEpisodic Score: {:.4f}\\tAverage Score: {:.4f}'.format(i_episode, means[-1], np.mean(scores_window),), end=\"\")\n",
    "        if i_episode % 100 == 0:\n",
    "            print('\\rEpisode {}\\tEpisodic Score: {:.4f}\\tAverage Score: {:.4f}'.format(i_episode, means[-1], np.mean(scores_window)))\n",
    "        \n",
    "        if True:\n",
    "            state_history.append(torch.tensor(state, dtype=torch.float32).to(device))\n",
    "            goal_history.append(torch.tensor(goal, dtype=torch.float32).to(device))\n",
    "            _, values = agent.act(torch.tensor(state, dtype=torch.float32).to(device),\n",
    "                                  torch.tensor(goal, dtype=torch.float32).to(device))\n",
    "            values_history.append(torch.tensor(values.detach(), dtype=torch.float32).to(device))\n",
    "            Advantages = [] #Save advantages to update actor\n",
    "            advantages = 0\n",
    "            Returns = [] #Save returns to update critic\n",
    "            returns = 0\n",
    "            for i in reversed(range(len(state_history)-1)):\n",
    "                state = state_history[i]\n",
    "                next_state = state_history[i+1]\n",
    "                goal = goal_history[i]\n",
    "                next_goal = state_history[i+1]\n",
    "                values = values_history[i]\n",
    "                next_values = values_history[i+1]\n",
    "                if agent.method == 'MC':\n",
    "                    returns = (1-done_history[i])*agent.gamma*returns + reward_history[i]\n",
    "                else:\n",
    "                    returns = (1-done_history[i])*agent.gamma*next_values + reward_history[i]\n",
    "                Returns.append(returns.detach())\n",
    "                delta = reward_history[i]+(1-done_history[i])*agent.gamma*next_values-values\n",
    "                advantages = (1-done_history[i])*agent.gamma*agent.tau*advantages + delta\n",
    "                Advantages.append(advantages.detach().view(-1))\n",
    "        \n",
    "            Advantages.reverse()\n",
    "            Advantages = torch.stack(Advantages).detach().to(device)\n",
    "            Advantages = (Advantages - Advantages.mean(dim=1 ,keepdim=True))/Advantages.std(dim=1, keepdim=True)\n",
    "            Advantages = Advantages.view(-1,1)\n",
    "            Returns.reverse()\n",
    "            Returns = torch.stack(Returns).detach().to(device)\n",
    "            Returns = Returns.view(-1,1)\n",
    "            states = torch.cat(state_history[:-1], 0)\n",
    "            goals = torch.cat(goal_history[:-1], 0)\n",
    "            actions = torch.cat(action_history, 0).view(-1, 1)\n",
    "            log_probs = torch.cat(log_prob_history, 0)\n",
    "            \n",
    "            agent.learn(states, goals, actions, log_probs, Advantages, Returns)\n",
    "            \n",
    "            state_history = []\n",
    "            goal_history = []\n",
    "            action_history = []\n",
    "            reward_history = []\n",
    "            log_prob_history = []\n",
    "            done_history = []\n",
    "        \n",
    "        for actor_param, critic_param in zip(agent.actor.parameters(), agent.critic.parameters()):\n",
    "            if any(torch.isnan(actor_param.view(-1))) or any(torch.isnan(critic_param.view(-1))):\n",
    "                print('Nan in weights!')\n",
    "        \n",
    "    torch.save(agent.actor.state_dict(), 'PPO_{}_checkpoint.pth'.format(agent.method))\n",
    "    return means"
   ]
  },
  {
   "cell_type": "code",
   "execution_count": null,
   "metadata": {},
   "outputs": [],
   "source": [
    "env = test_environment(10, 5)\n",
    "agent = PPO_Agent(env=env, state_size=env.length, action_size=env.length, fc_units=[32]*3, BatchNorm=False)\n",
    "means = PPO_Discrete(n_episode=250, max_t=1000, agent=agent, env=env, BatchNorm=True)\n",
    "plt.plot(means)\n",
    "plt.show()"
   ]
  }
 ],
 "metadata": {
  "kernelspec": {
   "display_name": "Python 3",
   "language": "python",
   "name": "python3"
  },
  "language_info": {
   "codemirror_mode": {
    "name": "ipython",
    "version": 3
   },
   "file_extension": ".py",
   "mimetype": "text/x-python",
   "name": "python",
   "nbconvert_exporter": "python",
   "pygments_lexer": "ipython3",
   "version": "3.6.8"
  }
 },
 "nbformat": 4,
 "nbformat_minor": 2
}
