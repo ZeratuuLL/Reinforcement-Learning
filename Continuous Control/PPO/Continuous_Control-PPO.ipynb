{
 "cells": [
  {
   "cell_type": "markdown",
   "metadata": {},
   "source": [
    "# Continuous Control\n",
    "\n",
    "---\n",
    "\n",
    "In this notebook, you will learn how to use the Unity ML-Agents environment for the second project of the [Deep Reinforcement Learning Nanodegree](https://www.udacity.com/course/deep-reinforcement-learning-nanodegree--nd893) program.\n",
    "\n",
    "### 1. Start the Environment"
   ]
  },
  {
   "cell_type": "code",
   "execution_count": 1,
   "metadata": {},
   "outputs": [],
   "source": [
    "from unityagents import UnityEnvironment\n",
    "import numpy as np\n",
    "import matplotlib.pyplot as plt"
   ]
  },
  {
   "cell_type": "code",
   "execution_count": 2,
   "metadata": {},
   "outputs": [
    {
     "name": "stderr",
     "output_type": "stream",
     "text": [
      "INFO:unityagents:\n",
      "'Academy' started successfully!\n",
      "Unity Academy name: Academy\n",
      "        Number of Brains: 1\n",
      "        Number of External Brains : 1\n",
      "        Lesson number : 0\n",
      "        Reset Parameters :\n",
      "\t\tgoal_speed -> 1.0\n",
      "\t\tgoal_size -> 5.0\n",
      "Unity brain name: ReacherBrain\n",
      "        Number of Visual Observations (per agent): 0\n",
      "        Vector Observation space type: continuous\n",
      "        Vector Observation space size (per agent): 33\n",
      "        Number of stacked Vector Observation: 1\n",
      "        Vector Action space type: continuous\n",
      "        Vector Action space size (per agent): 4\n",
      "        Vector Action descriptions: , , , \n"
     ]
    }
   ],
   "source": [
    "env = UnityEnvironment(file_name='Reacher-20.app')"
   ]
  },
  {
   "cell_type": "markdown",
   "metadata": {},
   "source": [
    "Environments contain **_brains_** which are responsible for deciding the actions of their associated agents. Here we check for the first brain available, and set it as the default brain we will be controlling from Python."
   ]
  },
  {
   "cell_type": "code",
   "execution_count": 3,
   "metadata": {},
   "outputs": [],
   "source": [
    "# get the default brain\n",
    "brain_name = env.brain_names[0]\n",
    "brain = env.brains[brain_name]"
   ]
  },
  {
   "cell_type": "markdown",
   "metadata": {},
   "source": [
    "### 2. Examine the State and Action Spaces\n",
    "\n",
    "In this environment, a double-jointed arm can move to target locations. A reward of `+0.1` is provided for each step that the agent's hand is in the goal location. Thus, the goal of your agent is to maintain its position at the target location for as many time steps as possible.\n",
    "\n",
    "The observation space consists of `33` variables corresponding to position, rotation, velocity, and angular velocities of the arm.  Each action is a vector with four numbers, corresponding to torque applicable to two joints.  Every entry in the action vector must be a number between `-1` and `1`.\n",
    "\n",
    "Run the code cell below to print some information about the environment."
   ]
  },
  {
   "cell_type": "code",
   "execution_count": 4,
   "metadata": {},
   "outputs": [
    {
     "name": "stdout",
     "output_type": "stream",
     "text": [
      "Number of agents: 20\n",
      "Size of each action: 4\n",
      "There are 20 agent(s). Each observes a state with length: 33\n",
      "The state for the first agent looks like: [ 0.00000000e+00 -4.00000000e+00  0.00000000e+00  1.00000000e+00\n",
      " -0.00000000e+00 -0.00000000e+00 -4.37113883e-08  0.00000000e+00\n",
      "  0.00000000e+00  0.00000000e+00  0.00000000e+00  0.00000000e+00\n",
      "  0.00000000e+00  0.00000000e+00 -1.00000000e+01  0.00000000e+00\n",
      "  1.00000000e+00 -0.00000000e+00 -0.00000000e+00 -4.37113883e-08\n",
      "  0.00000000e+00  0.00000000e+00  0.00000000e+00  0.00000000e+00\n",
      "  0.00000000e+00  0.00000000e+00  5.75471878e+00 -1.00000000e+00\n",
      "  5.55726624e+00  0.00000000e+00  1.00000000e+00  0.00000000e+00\n",
      " -1.68164849e-01]\n"
     ]
    }
   ],
   "source": [
    "# reset the environment\n",
    "env_info = env.reset(train_mode=False)[brain_name]\n",
    "\n",
    "# number of agents\n",
    "num_agents = len(env_info.agents)\n",
    "print('Number of agents:', num_agents)\n",
    "\n",
    "# size of each action\n",
    "action_size = brain.vector_action_space_size\n",
    "print('Size of each action:', action_size)\n",
    "\n",
    "# examine the state space \n",
    "states = env_info.vector_observations\n",
    "state_size = states.shape[1]\n",
    "print('There are {} agent(s). Each observes a state with length: {}'.format(states.shape[0], state_size))\n",
    "print('The state for the first agent looks like:', states[0])"
   ]
  },
  {
   "cell_type": "code",
   "execution_count": 5,
   "metadata": {},
   "outputs": [
    {
     "data": {
      "text/plain": [
       "device(type='cpu')"
      ]
     },
     "execution_count": 5,
     "metadata": {},
     "output_type": "execute_result"
    }
   ],
   "source": [
    "import numpy as np\n",
    "import random\n",
    "from collections import namedtuple, deque\n",
    "import torch\n",
    "\n",
    "device = torch.device(\"cuda:0\" if torch.cuda.is_available() else \"cpu\")\n",
    "device"
   ]
  },
  {
   "cell_type": "code",
   "execution_count": 6,
   "metadata": {},
   "outputs": [
    {
     "name": "stdout",
     "output_type": "stream",
     "text": [
      "Using device cpu\n"
     ]
    }
   ],
   "source": [
    "import torch\n",
    "import torch.nn as nn\n",
    "import torch.nn.functional as F\n",
    "from collections import namedtuple, deque\n",
    "import numpy as np\n",
    "import random\n",
    "import copy\n",
    "\n",
    "device = torch.device(\"cuda:0\" if torch.cuda.is_available() else \"cpu\")\n",
    "print('Using device {}'.format(device))\n",
    "\n",
    "def hidden_init(layer):\n",
    "    fan_in = layer.weight.data.size()[0]\n",
    "    lim = 1. / np.sqrt(fan_in)\n",
    "    return (-lim, lim)    \n",
    "    \n",
    "class Actor_Critic(nn.Module):\n",
    "    \n",
    "    def __init__(self, state_size, action_size, hidden=[512,512,512]):\n",
    "        super(Actor_Critic, self).__init__()\n",
    "        self.fc1 = nn.Linear(state_size, hidden[0])\n",
    "        self.fc2 = nn.Linear(hidden[0], hidden[1])\n",
    "        self.fc3 = nn.Linear(hidden[1], hidden[2])\n",
    "        self.fc4 = nn.Linear(hidden[2], action_size)\n",
    "        self.fc5 = nn.Linear(hidden[2], 1)\n",
    "        \n",
    "    def forward(self, x):\n",
    "        x = F.relu(self.fc1(x))\n",
    "        x = F.relu(self.fc2(x))\n",
    "        x = F.relu(self.fc3(x))\n",
    "        action = F.tanh(self.fc4(x))\n",
    "        value = self.fc5(x)\n",
    "        return action, value"
   ]
  },
  {
   "cell_type": "code",
   "execution_count": 7,
   "metadata": {},
   "outputs": [],
   "source": [
    "import torch\n",
    "import torch.nn\n",
    "import torch.nn.functional as F\n",
    "import torch.optim as optim\n",
    "import numpy as np\n",
    "import random\n",
    "import math\n",
    "from collections import deque\n",
    "from torch.utils.data import Dataset, TensorDataset, DataLoader\n",
    "\n",
    "class PPO_Agent:\n",
    "    def __init__(self, env, lr=0.001, beta=0, learning_time=3, std=0.5, eps=0.2, tau=0.995, batch_size=128):\n",
    "        \n",
    "        #Initialize environment\n",
    "        brain_name = env.brain_names[0]\n",
    "        brain = env.brains[brain_name]\n",
    "        env_info = env.reset(train_mode=True)[brain_name]\n",
    "        num_agents = len(env_info.agents)\n",
    "        action_size = brain.vector_action_space_size\n",
    "        states = env_info.vector_observations\n",
    "        state_size = states.shape[1]\n",
    "        self.env = env\n",
    "        \n",
    "        #Initialize some hyper parameters of agent\n",
    "        self.lr = lr\n",
    "        self.learning_time = learning_time\n",
    "        self.state_size = state_size\n",
    "        self.action_size = action_size\n",
    "        self.num_agents = num_agents\n",
    "        self.gamma = 0.99\n",
    "        self.batch_size = batch_size\n",
    "        self.beta = beta#parameter for entropy panelty\n",
    "        self.eps = eps#parameter for clip\n",
    "        self.tau = tau#parameter for GAE\n",
    "        \n",
    "        #Networks and optimizers\n",
    "        self.network = Actor_Critic(self.state_size, self.action_size).to(device)\n",
    "        self.optimizer = optim.Adam(self.network.parameters(),lr=self.lr)\n",
    "        \n",
    "        #About noise\n",
    "        self.std = std\n",
    "        self.mean = torch.zeros([self.num_agents, self.action_size], dtype=torch.float32)\n",
    "        \n",
    "    def act(self, states, std):\n",
    "        with torch.no_grad():\n",
    "            states = torch.tensor(states, dtype=torch.float).to(device)\n",
    "            actions_original, _ = self.network(states)\n",
    "            noise = torch.distributions.Normal(self.mean, std).sample().to(device)\n",
    "            actions = actions_original + noise\n",
    "            actions = torch.clamp(actions, -1, 1)\n",
    "            log_probs = torch.distributions.Normal(actions_original, std).log_prob(actions)\n",
    "            log_probs = log_probs.sum(dim=1, keepdim=True).detach().cpu().numpy()\n",
    "            actions = actions.detach().cpu().numpy()\n",
    "        return actions, log_probs\n",
    "    \n",
    "    def learn(self, states, actions, log_probs, dones, Advantages, Returns):\n",
    "        '''\n",
    "        This functions calculates the clipped surrogate function and do one step update to the action network\n",
    "        And then the critic network will be updated\n",
    "        The inputs are all lists of tensors. They are already sent to device before into the list\n",
    "        '''\n",
    "        \n",
    "        #Generate dataset for getting small batches\n",
    "        mydata = TensorDataset(states, actions, log_probs, dones, Advantages, Returns)\n",
    "        Loader = DataLoader(mydata, batch_size = self.batch_size, shuffle = True)\n",
    "        \n",
    "        for i in range(self.learning_time):\n",
    "            for sampled_states, sampled_actions, sampled_log_probs, sampled_dones, sampled_advantages, sampled_returns in iter(Loader):\n",
    "                new_actions, V = self.network(sampled_states)\n",
    "                new_log_probs = torch.distributions.Normal(new_actions, self.std).log_prob(sampled_actions)\n",
    "                new_log_probs = new_log_probs.sum(dim=1, keepdim=True)\n",
    "                ratio = (new_log_probs - sampled_log_probs).exp()\n",
    "                \n",
    "                Actor_Loss = -torch.min(input=ratio*sampled_advantages, other=torch.clamp(ratio, 1-self.eps, 1+self.eps)*sampled_advantages).mean()\n",
    "                Critic_Loss = 0.5*(V-sampled_returns).pow(2).mean()\n",
    "                Loss = Actor_Loss+Critic_Loss\n",
    "                self.optimizer.zero_grad()\n",
    "                Loss.backward()\n",
    "                torch.nn.utils.clip_grad_norm_(self.network.parameters(), 5)\n",
    "                self.optimizer.step()\n",
    "            \n",
    "    def train(self, n_episode, standardlize='row'):\n",
    "        '''\n",
    "        This function do the training part of the agent. The procedure is like:\n",
    "            1. initialize environment\n",
    "            2. Go through a whole episode, recode all states, actions, log_probs, rewards and dones information\n",
    "            3. call learn function to update the networks\n",
    "            4. repeat 2-3 for n_episode times.\n",
    "        '''\n",
    "        all_rewards = []\n",
    "        brain_name = self.env.brain_names[0]\n",
    "        score_window = deque(maxlen=100)\n",
    "        \n",
    "        standardlize = standardlize.lower()\n",
    "        if standardlize not in ['row','whole']:\n",
    "            print('Standarlization in row or as a whole. Input not supported. Use row instead')\n",
    "            standardlize = 'row'\n",
    "        \n",
    "        for i in range(1, n_episode+1):\n",
    "            #initialize environment\n",
    "            episodic_reward = np.zeros(self.num_agents)\n",
    "            env_info = self.env.reset(train_mode=True)[brain_name]\n",
    "            states_history = []\n",
    "            actions_history = []\n",
    "            rewards_history = []\n",
    "            log_probs_history = []\n",
    "            dones_history = []\n",
    "            states = env_info.vector_observations\n",
    "            actions, log_probs = self.act(states, self.std)\n",
    "            \n",
    "            while True:\n",
    "                states_history.append(torch.tensor(states, dtype=torch.float).to(device))\n",
    "                actions_history.append(torch.tensor(actions, dtype=torch.float).to(device))\n",
    "                log_probs_history.append(torch.tensor(log_probs, dtype=torch.float).to(device))#Save as columns\n",
    "                env_info = self.env.step(actions)[brain_name]\n",
    "                next_states = env_info.vector_observations\n",
    "                dones = torch.tensor(env_info.local_done, dtype=torch.float).view(-1,1).to(device)\n",
    "                rewards = torch.tensor(env_info.rewards, dtype=torch.float).view(-1,1).to(device)\n",
    "                episodic_reward += np.array(env_info.rewards)\n",
    "                rewards_history.append(rewards)\n",
    "                dones_history.append(dones)\n",
    "                \n",
    "                states = next_states\n",
    "                actions, log_probs = self.act(states, self.std)\n",
    "            \n",
    "                if any(dones):\n",
    "                    break\n",
    "                    \n",
    "            states_history.append(torch.tensor(states, dtype=torch.float).to(device))\n",
    "            Advantages = []\n",
    "            advantage = 0\n",
    "            Returns = []\n",
    "            returns = 0\n",
    "            #Calculate advantages\n",
    "            for j in reversed(range(len(states_history)-1)):\n",
    "                returns = rewards_history[j] + (1-dones_history[j])*returns*self.gamma\n",
    "                Returns.append(returns.view(-1))\n",
    "                states = states_history[j]\n",
    "                next_states = states_history[j+1]\n",
    "                _, value = self.network(states)\n",
    "                _, next_value = self.network(next_states)\n",
    "                delta = rewards_history[j] + (1-dones_history[j])*self.gamma*next_value.detach() - value.detach()\n",
    "                advantage = advantage*self.gamma*self.tau*(1-dones_history[j]) + delta\n",
    "                Advantages.append(advantage.view(-1))\n",
    "            Advantages.reverse()\n",
    "            Advantages = torch.stack(Advantages).detach().to(device)\n",
    "            if standardlize == 'row':\n",
    "                Advantages = (Advantages - Advantages.mean(dim=1 ,keepdim=True))/Advantages.std(dim=1, keepdim=True)\n",
    "            else:\n",
    "                Advantages = (Advantages - Advantages.mean())/Advantages.std()\n",
    "            Advantages = Advantages.view(-1,1)\n",
    "            Returns.reverse()\n",
    "            Returns = torch.stack(Returns).detach().to(device)\n",
    "            Returns = Returns.view(-1,1)\n",
    "            \n",
    "            states_history = torch.cat(states_history[:-1], 0)\n",
    "            actions_history = torch.cat(actions_history, 0)\n",
    "            log_probs_history = torch.cat(log_probs_history, 0)\n",
    "            dones_history = torch.cat(dones_history, 0)\n",
    "            \n",
    "            self.learn(states_history, actions_history, log_probs_history, dones_history, Advantages, Returns)\n",
    "            \n",
    "            score_window.append(np.mean(episodic_reward))\n",
    "            all_rewards.append(episodic_reward)\n",
    "            print('\\rEpisode {}. Total score for this episode: {:.4f}, average score {:.4f}'.format(i, np.mean(episodic_reward), np.mean(score_window)),end='')\n",
    "            if i % 100 == 0:\n",
    "                print(' ')\n",
    "        \n",
    "        np.save('PPO_rewards.npy',np.array(all_rewards))\n",
    "        self.network.cpu()\n",
    "        torch.save(self.network.state_dict(),'PPO_checkpoint.pth')\n",
    "        return all_rewards"
   ]
  },
  {
   "cell_type": "code",
   "execution_count": 8,
   "metadata": {},
   "outputs": [
    {
     "name": "stdout",
     "output_type": "stream",
     "text": [
      "Episode 100. Total score for this episode: 10.6170, average score 4.7396 \n",
      "Episode 200. Total score for this episode: 15.1835, average score 13.3831 \n"
     ]
    }
   ],
   "source": [
    "agent = PPO_Agent(env=env, batch_size=512)\n",
    "rewards = agent.train(200, standardlize='whole')"
   ]
  },
  {
   "cell_type": "code",
   "execution_count": 9,
   "metadata": {},
   "outputs": [
    {
     "data": {
      "image/png": "[encoded data removed]",
      "text/plain": [
       "<Figure size 432x288 with 1 Axes>"
      ]
     },
     "metadata": {
      "needs_background": "light"
     },
     "output_type": "display_data"
    }
   ],
   "source": [
    "import matplotlib.pyplot as plt\n",
    "plt.plot(np.mean(np.array(rewards),axis=1))\n",
    "plt.show()"
   ]
  },
  {
   "cell_type": "code",
   "execution_count": 10,
   "metadata": {},
   "outputs": [
    {
     "name": "stdout",
     "output_type": "stream",
     "text": [
      "Episode 100. Total score for this episode: 12.9965, average score 5.3944 \n",
      "Episode 200. Total score for this episode: 19.5680, average score 20.1683 \n"
     ]
    }
   ],
   "source": [
    "agent = PPO_Agent(env=env, batch_size=512)\n",
    "rewards = agent.train(200, standardlize='row')"
   ]
  },
  {
   "cell_type": "code",
   "execution_count": 11,
   "metadata": {},
   "outputs": [
    {
     "data": {
      "image/png": "[encoded data removed]",
      "text/plain": [
       "<Figure size 432x288 with 1 Axes>"
      ]
     },
     "metadata": {
      "needs_background": "light"
     },
     "output_type": "display_data"
    }
   ],
   "source": [
    "plt.plot(np.mean(np.array(rewards),axis=1))\n",
    "plt.show()"
   ]
  },
  {
   "cell_type": "code",
   "execution_count": 12,
   "metadata": {},
   "outputs": [
    {
     "name": "stdout",
     "output_type": "stream",
     "text": [
      "Episode 100. Total score for this episode: 14.7345, average score 6.4478 \n",
      "Episode 200. Total score for this episode: 28.6655, average score 22.3704 \n"
     ]
    }
   ],
   "source": [
    "agent = PPO_Agent(env=env, batch_size=512, lr=0.0001)\n",
    "rewards = agent.train(200, standardlize='whole')"
   ]
  },
  {
   "cell_type": "code",
   "execution_count": 13,
   "metadata": {},
   "outputs": [
    {
     "data": {
      "image/png": "[encoded data removed]",
      "text/plain": [
       "<Figure size 432x288 with 1 Axes>"
      ]
     },
     "metadata": {
      "needs_background": "light"
     },
     "output_type": "display_data"
    }
   ],
   "source": [
    "plt.plot(np.mean(np.array(rewards),axis=1))\n",
    "plt.show()"
   ]
  },
  {
   "cell_type": "code",
   "execution_count": 14,
   "metadata": {},
   "outputs": [
    {
     "name": "stdout",
     "output_type": "stream",
     "text": [
      "Episode 100. Total score for this episode: 17.9580, average score 7.1687 \n",
      "Episode 200. Total score for this episode: 31.2465, average score 25.7263 \n"
     ]
    }
   ],
   "source": [
    "agent = PPO_Agent(env=env, batch_size=512, lr=0.0001)\n",
    "rewards = agent.train(200, standardlize='row')"
   ]
  },
  {
   "cell_type": "code",
   "execution_count": 15,
   "metadata": {},
   "outputs": [
    {
     "data": {
      "image/png": "[encoded data removed]",
      "text/plain": [
       "<Figure size 432x288 with 1 Axes>"
      ]
     },
     "metadata": {
      "needs_background": "light"
     },
     "output_type": "display_data"
    }
   ],
   "source": [
    "plt.plot(np.mean(np.array(rewards),axis=1))\n",
    "plt.show()"
   ]
  },
  {
   "cell_type": "code",
   "execution_count": 16,
   "metadata": {},
   "outputs": [
    {
     "name": "stdout",
     "output_type": "stream",
     "text": [
      "Episode 100. Total score for this episode: 16.1860, average score 7.1543 \n",
      "Episode 200. Total score for this episode: 22.2790, average score 19.4021 \n"
     ]
    }
   ],
   "source": [
    "agent = PPO_Agent(env=env, batch_size=256, lr=0.0001)\n",
    "rewards = agent.train(200, standardlize='row')"
   ]
  },
  {
   "cell_type": "code",
   "execution_count": 17,
   "metadata": {},
   "outputs": [
    {
     "data": {
      "image/png": "[encoded data removed]",
      "text/plain": [
       "<Figure size 432x288 with 1 Axes>"
      ]
     },
     "metadata": {
      "needs_background": "light"
     },
     "output_type": "display_data"
    }
   ],
   "source": [
    "plt.plot(np.mean(np.array(rewards),axis=1))\n",
    "plt.show()"
   ]
  }
 ],
 "metadata": {
  "kernelspec": {
   "display_name": "drlnd",
   "language": "python",
   "name": "drlnd"
  },
  "language_info": {
   "codemirror_mode": {
    "name": "ipython",
    "version": 3
   },
   "file_extension": ".py",
   "mimetype": "text/x-python",
   "name": "python",
   "nbconvert_exporter": "python",
   "pygments_lexer": "ipython3",
   "version": "3.6.6"
  }
 },
 "nbformat": 4,
 "nbformat_minor": 2
}
